{
 "cells": [
  {
   "cell_type": "code",
   "execution_count": 1,
   "metadata": {
    "collapsed": true
   },
   "outputs": [],
   "source": [
    "#Import libraries:\n",
    "import tweepy\n",
    "import json\n",
    "import pandas as pd\n",
    "import codecs\n",
    "import re\n",
    "import string\n",
    "from sys import argv"
   ]
  },
  {
   "cell_type": "code",
   "execution_count": 2,
   "metadata": {
    "collapsed": true
   },
   "outputs": [],
   "source": [
    "from wordcloud import WordCloud, STOPWORDS\n",
    "from textblob import TextBlob"
   ]
  },
  {
   "cell_type": "code",
   "execution_count": 3,
   "metadata": {
    "collapsed": true
   },
   "outputs": [],
   "source": [
    "### Initial nltk installation:\n",
    "### from ipython: import nltk --> nltk.download() --> select Corpora - wordnet\n",
    "from nltk.corpus import stopwords \n",
    "from nltk.stem.wordnet import WordNetLemmatizer\n",
    "from nltk import TweetTokenizer"
   ]
  },
  {
   "cell_type": "code",
   "execution_count": 66,
   "metadata": {
    "collapsed": true
   },
   "outputs": [],
   "source": [
    "%matplotlib inline\n",
    "import matplotlib.pyplot as plt\n",
    "import matplotlib.ticker as mtick\n",
    "import numpy as np\n",
    "from pandas import Series"
   ]
  },
  {
   "cell_type": "markdown",
   "metadata": {},
   "source": [
    "## Define Keywords for Data Analysis"
   ]
  },
  {
   "cell_type": "code",
   "execution_count": 223,
   "metadata": {
    "collapsed": false
   },
   "outputs": [
    {
     "name": "stdout",
     "output_type": "stream",
     "text": [
      "file 1: #pizza-2018-04-17.csv\n",
      "file 2: #yoga-2018-04-17.csv\n"
     ]
    }
   ],
   "source": [
    "key_1 = \"#pizza\"\n",
    "key_2 = \"#yoga\"\n",
    "today = \"2018-04-17\" \n",
    "\n",
    "file_1 = key_1 + \"-\" + today + \".csv\"\n",
    "file_2 = key_2 + \"-\" + today + \".csv\"\n",
    "print(\"file 1:\",file_1)\n",
    "print(\"file 2:\",file_2)"
   ]
  },
  {
   "cell_type": "code",
   "execution_count": 224,
   "metadata": {
    "collapsed": false
   },
   "outputs": [],
   "source": [
    "columns = ['date','favorites','id','retweets','source','text','user_flwr_count','user_name']\n",
    "data_1 = pd.read_csv(file_1,header = None,names = columns,parse_dates=['date'],dtype={'id':str,'favorites':int,'retweets':int,'user_flwr_count':int})\n",
    "data_2 = pd.read_csv(file_2,header = None,names = columns,parse_dates=['date'],dtype={'id':str,'favorites':int,'retweets':int,'user_flwr_count':int})"
   ]
  },
  {
   "cell_type": "code",
   "execution_count": 225,
   "metadata": {
    "collapsed": false
   },
   "outputs": [
    {
     "data": {
      "text/html": [
       "<div>\n",
       "<table border=\"1\" class=\"dataframe\">\n",
       "  <thead>\n",
       "    <tr style=\"text-align: right;\">\n",
       "      <th></th>\n",
       "      <th>date</th>\n",
       "      <th>favorites</th>\n",
       "      <th>id</th>\n",
       "      <th>retweets</th>\n",
       "      <th>source</th>\n",
       "      <th>text</th>\n",
       "      <th>user_flwr_count</th>\n",
       "      <th>user_name</th>\n",
       "    </tr>\n",
       "  </thead>\n",
       "  <tbody>\n",
       "    <tr>\n",
       "      <th>9998</th>\n",
       "      <td>2018-04-11 03:15:42</td>\n",
       "      <td>0</td>\n",
       "      <td>983906408801292289</td>\n",
       "      <td>0</td>\n",
       "      <td>Instagram</td>\n",
       "      <td>Yes, I am tracing this #AMAZING #ChickenAlfred...</td>\n",
       "      <td>1485</td>\n",
       "      <td>Jeremy Petrachonis</td>\n",
       "    </tr>\n",
       "    <tr>\n",
       "      <th>9999</th>\n",
       "      <td>2018-04-11 03:15:34</td>\n",
       "      <td>0</td>\n",
       "      <td>983906373732745221</td>\n",
       "      <td>1</td>\n",
       "      <td>Beer and Pizza - Rewteet</td>\n",
       "      <td>RT @party_on_cheers: Join 7 people right now a...</td>\n",
       "      <td>2755</td>\n",
       "      <td>Beer and Pizza Day!</td>\n",
       "    </tr>\n",
       "  </tbody>\n",
       "</table>\n",
       "</div>"
      ],
      "text/plain": [
       "                    date  favorites                  id  retweets  \\\n",
       "9998 2018-04-11 03:15:42          0  983906408801292289         0   \n",
       "9999 2018-04-11 03:15:34          0  983906373732745221         1   \n",
       "\n",
       "                        source  \\\n",
       "9998                 Instagram   \n",
       "9999  Beer and Pizza - Rewteet   \n",
       "\n",
       "                                                   text  user_flwr_count  \\\n",
       "9998  Yes, I am tracing this #AMAZING #ChickenAlfred...             1485   \n",
       "9999  RT @party_on_cheers: Join 7 people right now a...             2755   \n",
       "\n",
       "                user_name  \n",
       "9998   Jeremy Petrachonis  \n",
       "9999  Beer and Pizza Day!  "
      ]
     },
     "execution_count": 225,
     "metadata": {},
     "output_type": "execute_result"
    }
   ],
   "source": [
    "data_1.tail(2)"
   ]
  },
  {
   "cell_type": "code",
   "execution_count": 226,
   "metadata": {
    "collapsed": false
   },
   "outputs": [
    {
     "data": {
      "text/html": [
       "<div>\n",
       "<table border=\"1\" class=\"dataframe\">\n",
       "  <thead>\n",
       "    <tr style=\"text-align: right;\">\n",
       "      <th></th>\n",
       "      <th>date</th>\n",
       "      <th>favorites</th>\n",
       "      <th>id</th>\n",
       "      <th>retweets</th>\n",
       "      <th>source</th>\n",
       "      <th>text</th>\n",
       "      <th>user_flwr_count</th>\n",
       "      <th>user_name</th>\n",
       "    </tr>\n",
       "  </thead>\n",
       "  <tbody>\n",
       "    <tr>\n",
       "      <th>9998</th>\n",
       "      <td>2018-04-14 10:31:53</td>\n",
       "      <td>0</td>\n",
       "      <td>985103341406621697</td>\n",
       "      <td>0</td>\n",
       "      <td>Social Rabbit 307</td>\n",
       "      <td>#yoga Capezio Girls' Children's Collection Pul...</td>\n",
       "      <td>401</td>\n",
       "      <td>My Yoga Time</td>\n",
       "    </tr>\n",
       "    <tr>\n",
       "      <th>9999</th>\n",
       "      <td>2018-04-14 10:31:53</td>\n",
       "      <td>0</td>\n",
       "      <td>985103339796025344</td>\n",
       "      <td>0</td>\n",
       "      <td>Perkville</td>\n",
       "      <td>So #grateful we could still do #yoga together....</td>\n",
       "      <td>33</td>\n",
       "      <td>Emma Haffey</td>\n",
       "    </tr>\n",
       "  </tbody>\n",
       "</table>\n",
       "</div>"
      ],
      "text/plain": [
       "                    date  favorites                  id  retweets  \\\n",
       "9998 2018-04-14 10:31:53          0  985103341406621697         0   \n",
       "9999 2018-04-14 10:31:53          0  985103339796025344         0   \n",
       "\n",
       "                 source                                               text  \\\n",
       "9998  Social Rabbit 307  #yoga Capezio Girls' Children's Collection Pul...   \n",
       "9999          Perkville  So #grateful we could still do #yoga together....   \n",
       "\n",
       "      user_flwr_count     user_name  \n",
       "9998              401  My Yoga Time  \n",
       "9999               33   Emma Haffey  "
      ]
     },
     "execution_count": 226,
     "metadata": {},
     "output_type": "execute_result"
    }
   ],
   "source": [
    "data_2.tail(2)"
   ]
  },
  {
   "cell_type": "markdown",
   "metadata": {},
   "source": [
    "## Calculate Counts"
   ]
  },
  {
   "cell_type": "code",
   "execution_count": 302,
   "metadata": {
    "collapsed": true
   },
   "outputs": [],
   "source": [
    "def tweet_metrics(data, keyword):\n",
    "    # Create list of dates:\n",
    "    data['type'] = keyword\n",
    "    #data['calendar_day'] = data['date'].apply(lambda x: x.strftime('%Y-%m-%d'))\n",
    "    #dates = sorted(list(set(data['calendar_day'])))\n",
    "\n",
    "    # Initialize Time Series DataFrame\n",
    "\n",
    "    #get total number of tweets by day from raw tweet data\n",
    "    tweets_by_type = data.groupby('type')['type'].agg('count')\n",
    "\n",
    "    #get number of followers\n",
    "    followers_per_type = data.groupby('type')['user_flwr_count'].agg('sum')\n",
    "\n",
    "    #get number of favorites\n",
    "    favorites_per_type = data.groupby('type')['favorites'].agg('sum')\n",
    "\n",
    "    #get number of retweetshours_1 = round((data_1['date'][0] - data_1['date'][999]).seconds/3600, 2)\n",
    "    retweets_per_type = data.groupby('type')['retweets'].agg('sum')\n",
    "    \n",
    "    summary = pd.DataFrame()\n",
    "    summary['Total Tweets'] = list(tweets_by_type)\n",
    "    summary['Favorites'] = list(favorites_per_type)\t\n",
    "    summary['Retweets'] = list(retweets_per_type)\n",
    "    summary['Followers'] = list(followers_per_type)\n",
    "    \n",
    "    return(summary)"
   ]
  },
  {
   "cell_type": "code",
   "execution_count": 303,
   "metadata": {
    "collapsed": true
   },
   "outputs": [],
   "source": [
    "def time_count(data, summary):\n",
    "    #number of hours to collect the tweets\n",
    "    last_tweet = summary['Total Tweets'][0] - 1\n",
    "    time_delta = data['date'][0] - data['date'][last_tweet]\n",
    "    hours = round(time_delta.seconds/3600, 2) + time_delta.days * 24\n",
    "    \n",
    "    time_compare = pd.DataFrame()\n",
    "    time_compare['Total Tweets'] = summary['Total Tweets']\n",
    "    time_compare['Hours to Collect'] = hours\n",
    "    \n",
    "    return(time_compare)"
   ]
  },
  {
   "cell_type": "code",
   "execution_count": 304,
   "metadata": {
    "collapsed": false
   },
   "outputs": [],
   "source": [
    "def tweet_sentiments(data, summary):    \n",
    "    #Using TextBlob senttiment.polarity module on raw tweet data to determine sentiment polarity. \n",
    "    #Produce list of dictionaries \"tweets_with_sent\".\n",
    "    #analyze tweets sentiments and count number of tweets.\n",
    "    tweets_with_sent = []\n",
    "    pos_tweets=0\n",
    "    neg_tweets=0\n",
    "    neu_tweets=0\n",
    "\n",
    "    for tweet_text in data['text']:\n",
    "        tmp = TextBlob(tweet_text).sentiment.polarity\n",
    "        if tmp > 0:\n",
    "            add_sentiment = 'positive'\n",
    "            pos_tweets += 1\n",
    "        elif tmp == 0:\n",
    "            add_sentiment = 'neutral'\n",
    "            neu_tweets += 1\n",
    "        else:\n",
    "            add_sentiment = 'negative'\n",
    "            neg_tweets += 1\n",
    "        \n",
    "        #appending parsed tweet to list\n",
    "        tweets_with_sent.append(add_sentiment)\n",
    "    \n",
    "    #prepare dataset for modeling - add \"sentiment\" column to the tweets dataframe\n",
    "    data['sentiment'] = tweets_with_sent\n",
    "\n",
    "    #the last function unstack() spreads sentiment values across as columns\n",
    "    sentiment_df = data.groupby(['type','sentiment'])['type'].agg('count').unstack().fillna(0).astype(int)\n",
    "\n",
    "    #add sentiments to time series dataframe:\n",
    "    summary['Neutral'] = list(sentiment_df['neutral'])\n",
    "    summary['Positive'] = list(sentiment_df['positive'])\n",
    "    summary['Negative'] = list(sentiment_df['negative'])\n",
    "    \n",
    "    return(summary)"
   ]
  },
  {
   "cell_type": "code",
   "execution_count": 305,
   "metadata": {
    "collapsed": false
   },
   "outputs": [
    {
     "data": {
      "text/html": [
       "<div>\n",
       "<table border=\"1\" class=\"dataframe\">\n",
       "  <thead>\n",
       "    <tr style=\"text-align: right;\">\n",
       "      <th></th>\n",
       "      <th>Total Tweets</th>\n",
       "      <th>Favorites</th>\n",
       "      <th>Retweets</th>\n",
       "      <th>Followers</th>\n",
       "      <th>Neutral</th>\n",
       "      <th>Positive</th>\n",
       "      <th>Negative</th>\n",
       "    </tr>\n",
       "  </thead>\n",
       "  <tbody>\n",
       "    <tr>\n",
       "      <th>0</th>\n",
       "      <td>10000</td>\n",
       "      <td>9164</td>\n",
       "      <td>663020</td>\n",
       "      <td>68106141</td>\n",
       "      <td>3654</td>\n",
       "      <td>5432</td>\n",
       "      <td>914</td>\n",
       "    </tr>\n",
       "  </tbody>\n",
       "</table>\n",
       "</div>"
      ],
      "text/plain": [
       "   Total Tweets  Favorites  Retweets  Followers  Neutral  Positive  Negative\n",
       "0         10000       9164    663020   68106141     3654      5432       914"
      ]
     },
     "execution_count": 305,
     "metadata": {},
     "output_type": "execute_result"
    }
   ],
   "source": [
    "summary_1 = tweet_metrics(data_1, key_1)\n",
    "summary_1 = tweet_sentiments(data_1, summary_1)\n",
    "summary_1"
   ]
  },
  {
   "cell_type": "code",
   "execution_count": 306,
   "metadata": {
    "collapsed": false
   },
   "outputs": [
    {
     "data": {
      "text/html": [
       "<div>\n",
       "<table border=\"1\" class=\"dataframe\">\n",
       "  <thead>\n",
       "    <tr style=\"text-align: right;\">\n",
       "      <th></th>\n",
       "      <th>Total Tweets</th>\n",
       "      <th>Favorites</th>\n",
       "      <th>Retweets</th>\n",
       "      <th>Followers</th>\n",
       "      <th>Neutral</th>\n",
       "      <th>Positive</th>\n",
       "      <th>Negative</th>\n",
       "    </tr>\n",
       "  </thead>\n",
       "  <tbody>\n",
       "    <tr>\n",
       "      <th>0</th>\n",
       "      <td>10000</td>\n",
       "      <td>12763</td>\n",
       "      <td>117819</td>\n",
       "      <td>89310678</td>\n",
       "      <td>4451</td>\n",
       "      <td>4766</td>\n",
       "      <td>783</td>\n",
       "    </tr>\n",
       "  </tbody>\n",
       "</table>\n",
       "</div>"
      ],
      "text/plain": [
       "   Total Tweets  Favorites  Retweets  Followers  Neutral  Positive  Negative\n",
       "0         10000      12763    117819   89310678     4451      4766       783"
      ]
     },
     "execution_count": 306,
     "metadata": {},
     "output_type": "execute_result"
    }
   ],
   "source": [
    "summary_2 = tweet_metrics(data_2, key_2)\n",
    "summary_2 = tweet_sentiments(data_2, summary_2)\n",
    "summary_2"
   ]
  },
  {
   "cell_type": "code",
   "execution_count": 307,
   "metadata": {
    "collapsed": false
   },
   "outputs": [
    {
     "data": {
      "text/html": [
       "<div>\n",
       "<table border=\"1\" class=\"dataframe\">\n",
       "  <thead>\n",
       "    <tr style=\"text-align: right;\">\n",
       "      <th></th>\n",
       "      <th>#pizza</th>\n",
       "      <th>#yoga</th>\n",
       "    </tr>\n",
       "  </thead>\n",
       "  <tbody>\n",
       "    <tr>\n",
       "      <th>Total Tweets</th>\n",
       "      <td>1.0</td>\n",
       "      <td>1.000000</td>\n",
       "    </tr>\n",
       "    <tr>\n",
       "      <th>Favorites</th>\n",
       "      <td>1.0</td>\n",
       "      <td>1.392732</td>\n",
       "    </tr>\n",
       "    <tr>\n",
       "      <th>Retweets</th>\n",
       "      <td>1.0</td>\n",
       "      <td>0.177701</td>\n",
       "    </tr>\n",
       "    <tr>\n",
       "      <th>Followers</th>\n",
       "      <td>1.0</td>\n",
       "      <td>1.311345</td>\n",
       "    </tr>\n",
       "    <tr>\n",
       "      <th>Neutral</th>\n",
       "      <td>1.0</td>\n",
       "      <td>1.218117</td>\n",
       "    </tr>\n",
       "    <tr>\n",
       "      <th>Positive</th>\n",
       "      <td>1.0</td>\n",
       "      <td>0.877393</td>\n",
       "    </tr>\n",
       "    <tr>\n",
       "      <th>Negative</th>\n",
       "      <td>1.0</td>\n",
       "      <td>0.856674</td>\n",
       "    </tr>\n",
       "  </tbody>\n",
       "</table>\n",
       "</div>"
      ],
      "text/plain": [
       "              #pizza     #yoga\n",
       "Total Tweets     1.0  1.000000\n",
       "Favorites        1.0  1.392732\n",
       "Retweets         1.0  0.177701\n",
       "Followers        1.0  1.311345\n",
       "Neutral          1.0  1.218117\n",
       "Positive         1.0  0.877393\n",
       "Negative         1.0  0.856674"
      ]
     },
     "execution_count": 307,
     "metadata": {},
     "output_type": "execute_result"
    }
   ],
   "source": [
    "summary = summary_1.append(summary_2)\n",
    "norm = summary/summary_1\n",
    "compare_tweets = norm.transpose()\n",
    "compare_tweets.columns = [key_1, key_2]\n",
    "compare_tweets"
   ]
  },
  {
   "cell_type": "markdown",
   "metadata": {},
   "source": [
    "## Visualize"
   ]
  },
  {
   "cell_type": "code",
   "execution_count": 221,
   "metadata": {
    "collapsed": false
   },
   "outputs": [
    {
     "data": {
      "image/png": "[encoded data removed]",
      "text/plain": [
       "<matplotlib.figure.Figure at 0x7f6234b90e80>"
      ]
     },
     "metadata": {},
     "output_type": "display_data"
    }
   ],
   "source": [
    "#old visualization for 1,000 tweets\n",
    "fig,ax1 = plt.subplots(figsize=(12,5))\n",
    "compare_tweets.plot(ax=ax1,kind='bar',linewidth='2',rot=0,color='yg')\n",
    "ax1.set_ylabel(\"Ratios against \" + key_1 + \" metrics\")\n",
    "ax1.set_ylim([0.75,1.25])\n",
    "ax1.legend(loc='best',ncol=2)\n",
    "ax1.set_title(\"Pizza vs. Yoga Tweets\\n\")\n",
    "fig.savefig(\"pizza-vs-yoga-\" + today + \".png\")"
   ]
  },
  {
   "cell_type": "code",
   "execution_count": 308,
   "metadata": {
    "collapsed": false
   },
   "outputs": [
    {
     "data": {
      "image/png": "[encoded data removed]",
      "text/plain": [
       "<matplotlib.figure.Figure at 0x7f6235194b70>"
      ]
     },
     "metadata": {},
     "output_type": "display_data"
    }
   ],
   "source": [
    "fig,ax1 = plt.subplots(figsize=(12,5))\n",
    "compare_tweets.plot(ax=ax1,kind='bar',linewidth='2',rot=0,color='yg')\n",
    "ax1.set_ylabel(\"Ratios against \" + key_1 + \" metrics\")\n",
    "ax1.set_ylim([0,1.5])\n",
    "#ax1.set_xlabel('Metrics')\n",
    "ax1.legend(loc='best',ncol=2)\n",
    "ax1.set_title(\"Pizza vs. Yoga Tweets\\n\")\n",
    "fig.savefig(\"pizza-vs-yoga-\" + today + \".png\")"
   ]
  },
  {
   "cell_type": "code",
   "execution_count": 309,
   "metadata": {
    "collapsed": false
   },
   "outputs": [
    {
     "data": {
      "image/png": "[encoded data removed]",
      "text/plain": [
       "<matplotlib.figure.Figure at 0x7f62344549e8>"
      ]
     },
     "metadata": {},
     "output_type": "display_data"
    }
   ],
   "source": [
    "fig,ax1 = plt.subplots(figsize=(8,5))\n",
    "data_1['retweets'].hist(ax=ax1, color='y', histtype ='step', linewidth = 5, label = key_1, bins = 5)\n",
    "data_2['retweets'].hist(ax=ax1, color='g', histtype ='step', linewidth = 3, label = key_1, bins = 5)\n",
    "plt.xscale('log')\n",
    "plt.yscale('log')\n",
    "ax1.set_ylabel(\"Distribution\")\n",
    "ax1.set_xlabel('Retweets')\n",
    "ax1.set_ylim([0.5,15000])\n",
    "ax1.legend(loc='best',ncol=2)\n",
    "ax1.set_title(\"Pizza vs. Yoga Retweets\\n\")\n",
    "fig.savefig(\"pizza-vs-yoga-retweets-\" + today + \".png\")"
   ]
  },
  {
   "cell_type": "code",
   "execution_count": 310,
   "metadata": {
    "collapsed": false
   },
   "outputs": [
    {
     "data": {
      "image/png": "[encoded data removed]",
      "text/plain": [
       "<matplotlib.figure.Figure at 0x7f623422b5f8>"
      ]
     },
     "metadata": {},
     "output_type": "display_data"
    }
   ],
   "source": [
    "fig,ax1 = plt.subplots(figsize=(8,5))\n",
    "data_1['favorites'].hist(ax=ax1, color='y', histtype ='step', linewidth = 5, label = key_1, bins = 5)\n",
    "data_2['favorites'].hist(ax=ax1, color='g', histtype ='step', linewidth = 3, label = key_2, bins = 5)\n",
    "plt.xscale('log')\n",
    "plt.yscale('log')\n",
    "ax1.set_ylabel(\"Distribution\")\n",
    "ax1.set_xlabel('Favorites')\n",
    "ax1.set_ylim([0.5,15000])\n",
    "ax1.legend(loc='best',ncol=2)\n",
    "ax1.set_title(\"Pizza vs. Yoga Favorites\\n\")\n",
    "fig.savefig(\"pizza-vs-yoga-favorites-\" + today + \".png\")"
   ]
  },
  {
   "cell_type": "markdown",
   "metadata": {},
   "source": [
    "## Calculate time count to collect each set of tweets"
   ]
  },
  {
   "cell_type": "code",
   "execution_count": 311,
   "metadata": {
    "collapsed": false
   },
   "outputs": [
    {
     "data": {
      "text/html": [
       "<div>\n",
       "<table border=\"1\" class=\"dataframe\">\n",
       "  <thead>\n",
       "    <tr style=\"text-align: right;\">\n",
       "      <th></th>\n",
       "      <th>Total Tweets</th>\n",
       "      <th>Hours to Collect</th>\n",
       "    </tr>\n",
       "  </thead>\n",
       "  <tbody>\n",
       "    <tr>\n",
       "      <th>#pizza</th>\n",
       "      <td>10000</td>\n",
       "      <td>140.73</td>\n",
       "    </tr>\n",
       "    <tr>\n",
       "      <th>#yoga</th>\n",
       "      <td>10000</td>\n",
       "      <td>61.46</td>\n",
       "    </tr>\n",
       "  </tbody>\n",
       "</table>\n",
       "</div>"
      ],
      "text/plain": [
       "        Total Tweets  Hours to Collect\n",
       "#pizza         10000            140.73\n",
       "#yoga          10000             61.46"
      ]
     },
     "execution_count": 311,
     "metadata": {},
     "output_type": "execute_result"
    }
   ],
   "source": [
    "time_1 = time_count(data_1, summary_1)\n",
    "time_2 = time_count(data_2, summary_2)\n",
    "timec = time_1.append(time_2)\n",
    "timec.index = [key_1, key_2]\n",
    "timec"
   ]
  },
  {
   "cell_type": "code",
   "execution_count": 313,
   "metadata": {
    "collapsed": false
   },
   "outputs": [
    {
     "data": {
      "image/png": "[encoded data removed]",
      "text/plain": [
       "<matplotlib.figure.Figure at 0x7f6234103588>"
      ]
     },
     "metadata": {},
     "output_type": "display_data"
    }
   ],
   "source": [
    "fig,ax1 = plt.subplots(figsize=(5,5))\n",
    "timec['Hours to Collect'].plot(ax=ax1,kind='bar',linewidth='2',rot = 0, color='yg')\n",
    "ax1.set_ylabel(\"time to collect \" + str(timec['Total Tweets'][0]) + \" tweets\")\n",
    "ax1.set_title(\"Pizza vs. Yoga Time Count\\n\")\n",
    "fig.savefig(\"pizza-vs-yoga-time-count-\" + today + \".png\")"
   ]
  },
  {
   "cell_type": "code",
   "execution_count": null,
   "metadata": {
    "collapsed": true
   },
   "outputs": [],
   "source": []
  }
 ],
 "metadata": {
  "anaconda-cloud": {},
  "kernelspec": {
   "display_name": "Python [conda root]",
   "language": "python",
   "name": "conda-root-py"
  },
  "language_info": {
   "codemirror_mode": {
    "name": "ipython",
    "version": 3
   },
   "file_extension": ".py",
   "mimetype": "text/x-python",
   "name": "python",
   "nbconvert_exporter": "python",
   "pygments_lexer": "ipython3",
   "version": "3.5.2"
  }
 },
 "nbformat": 4,
 "nbformat_minor": 1
}
