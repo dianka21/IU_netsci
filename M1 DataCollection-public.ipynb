{
 "cells": [
  {
   "cell_type": "code",
   "execution_count": 1,
   "metadata": {
    "collapsed": true
   },
   "outputs": [],
   "source": [
    "#Import libraries:\n",
    "import tweepy\n",
    "import json\n",
    "import pandas as pd\n",
    "from sys import argv"
   ]
  },
  {
   "cell_type": "code",
   "execution_count": 1,
   "metadata": {
    "collapsed": true
   },
   "outputs": [],
   "source": [
    "import codecs\n",
    "import re\n",
    "import string\n",
    "\n",
    "\n",
    "from wordcloud import WordCloud, STOPWORDS\n",
    "from textblob import TextBlob\n",
    "\n",
    "### Initial nltk installation:\n",
    "### from ipython: import nltk --> nltk.download() --> select Corpora - wordnet\n",
    "from nltk.corpus import stopwords \n",
    "from nltk.stem.wordnet import WordNetLemmatizer\n",
    "from nltk import TweetTokenizer\n",
    "\n",
    "### Initial gensim installation: from pip install gensim\n",
    "from gensim import corpora, models, similarities "
   ]
  },
  {
   "cell_type": "code",
   "execution_count": 2,
   "metadata": {
    "collapsed": true
   },
   "outputs": [],
   "source": [
    "#define api_keys, authorization and api object\n",
    "api_key = \"\"\n",
    "api_secret = \"\"\n",
    "auth = tweepy.AppAuthHandler(api_key, api_secret)\n",
    "api = tweepy.API(auth,wait_on_rate_limit=True, wait_on_rate_limit_notify=True)"
   ]
  },
  {
   "cell_type": "markdown",
   "metadata": {},
   "source": [
    "## Define Keywords for Data Retrieval"
   ]
  },
  {
   "cell_type": "code",
   "execution_count": 25,
   "metadata": {
    "collapsed": false
   },
   "outputs": [
    {
     "name": "stdout",
     "output_type": "stream",
     "text": [
      "file name: #food-2018-04-17.csv\n",
      "keyterm: #food\n"
     ]
    }
   ],
   "source": [
    "#keyword = \"#yoga\"\n",
    "#keyword = \"#pizza\"\n",
    "keyword = \"#food\"\n",
    "\n",
    "yesterday = \"2018-04-08\"\n",
    "today = \"2018-04-17\" \n",
    "\n",
    "file_name = keyword + \"-\" + today + \".csv\"\n",
    "print(\"file name:\",file_name)\n",
    "\n",
    "if \"-\" in keyword:\n",
    "    keyterm = keyword.split(\"-\")\n",
    "else:\n",
    "    keyterm = keyword\n",
    "print(\"keyterm:\",keyterm)"
   ]
  },
  {
   "cell_type": "code",
   "execution_count": 26,
   "metadata": {
    "collapsed": false
   },
   "outputs": [],
   "source": [
    "\n",
    "c = tweepy.Cursor(api.search,q=keyterm,since=yesterday, until=today,lang=\"en\")\n"
   ]
  },
  {
   "cell_type": "code",
   "execution_count": 27,
   "metadata": {
    "collapsed": false
   },
   "outputs": [
    {
     "name": "stdout",
     "output_type": "stream",
     "text": [
      "Rate limit reached. Sleeping for: 818\n"
     ]
    }
   ],
   "source": [
    "tweets = []\n",
    "for tweet in c.items(10000):\n",
    "    parsed_tweet = {}\n",
    "    parsed_tweet['id'] = str(tweet.id)\n",
    "    parsed_tweet['date'] = tweet.created_at\n",
    "    parsed_tweet['source'] = tweet.source\n",
    "    parsed_tweet['text'] = tweet.text\n",
    "    parsed_tweet['favorites'] = str(tweet.favorite_count)\n",
    "    parsed_tweet['retweets'] = str(tweet.retweet_count)\n",
    "    parsed_tweet['user_name'] = tweet.user.name\n",
    "    parsed_tweet['user_flwr_count'] = str(tweet.user.followers_count)\n",
    "    if parsed_tweet['favorites'].isdigit() & parsed_tweet['retweets'].isdigit() & parsed_tweet['user_flwr_count'].isdigit() & parsed_tweet['id'].isdigit():\n",
    "        tweets.append(parsed_tweet)\n",
    "df = pd.DataFrame(tweets)"
   ]
  },
  {
   "cell_type": "code",
   "execution_count": 24,
   "metadata": {
    "collapsed": false
   },
   "outputs": [
    {
     "data": {
      "text/html": [
       "<div>\n",
       "<table border=\"1\" class=\"dataframe\">\n",
       "  <thead>\n",
       "    <tr style=\"text-align: right;\">\n",
       "      <th></th>\n",
       "      <th>date</th>\n",
       "      <th>favorites</th>\n",
       "      <th>id</th>\n",
       "      <th>retweets</th>\n",
       "      <th>source</th>\n",
       "      <th>text</th>\n",
       "      <th>user_flwr_count</th>\n",
       "      <th>user_name</th>\n",
       "    </tr>\n",
       "  </thead>\n",
       "  <tbody>\n",
       "    <tr>\n",
       "      <th>4461</th>\n",
       "      <td>2018-04-08 01:20:19</td>\n",
       "      <td>3</td>\n",
       "      <td>982790206779789313</td>\n",
       "      <td>1</td>\n",
       "      <td>Twitter for Android</td>\n",
       "      <td>This Low- #Sodium #Pasta Recipe Is Packed With...</td>\n",
       "      <td>254</td>\n",
       "      <td>SMB</td>\n",
       "    </tr>\n",
       "    <tr>\n",
       "      <th>4462</th>\n",
       "      <td>2018-04-08 01:04:49</td>\n",
       "      <td>0</td>\n",
       "      <td>982786307968700416</td>\n",
       "      <td>0</td>\n",
       "      <td>Facebook</td>\n",
       "      <td>Hi everyone please check out our new video!  T...</td>\n",
       "      <td>126</td>\n",
       "      <td>Samantha Verdaguer</td>\n",
       "    </tr>\n",
       "    <tr>\n",
       "      <th>4463</th>\n",
       "      <td>2018-04-08 00:59:48</td>\n",
       "      <td>0</td>\n",
       "      <td>982785042572247040</td>\n",
       "      <td>165</td>\n",
       "      <td>Twitter for Android</td>\n",
       "      <td>RT @tastemade: If you're craving lasagna, but ...</td>\n",
       "      <td>191</td>\n",
       "      <td>Valen</td>\n",
       "    </tr>\n",
       "    <tr>\n",
       "      <th>4464</th>\n",
       "      <td>2018-04-08 00:57:32</td>\n",
       "      <td>0</td>\n",
       "      <td>982784472935534593</td>\n",
       "      <td>6</td>\n",
       "      <td>Twitter for Android</td>\n",
       "      <td>RT @DiplyDelicious: What's for dinner tonight?...</td>\n",
       "      <td>202</td>\n",
       "      <td>Charity Radebe</td>\n",
       "    </tr>\n",
       "    <tr>\n",
       "      <th>4465</th>\n",
       "      <td>2018-04-08 00:56:48</td>\n",
       "      <td>2</td>\n",
       "      <td>982784290428776451</td>\n",
       "      <td>0</td>\n",
       "      <td>Instagram</td>\n",
       "      <td>#homecooking #pasta #aldi #aldifinds #italianf...</td>\n",
       "      <td>170</td>\n",
       "      <td>Ros Krasny</td>\n",
       "    </tr>\n",
       "  </tbody>\n",
       "</table>\n",
       "</div>"
      ],
      "text/plain": [
       "                    date favorites                  id retweets  \\\n",
       "4461 2018-04-08 01:20:19         3  982790206779789313        1   \n",
       "4462 2018-04-08 01:04:49         0  982786307968700416        0   \n",
       "4463 2018-04-08 00:59:48         0  982785042572247040      165   \n",
       "4464 2018-04-08 00:57:32         0  982784472935534593        6   \n",
       "4465 2018-04-08 00:56:48         2  982784290428776451        0   \n",
       "\n",
       "                   source                                               text  \\\n",
       "4461  Twitter for Android  This Low- #Sodium #Pasta Recipe Is Packed With...   \n",
       "4462             Facebook  Hi everyone please check out our new video!  T...   \n",
       "4463  Twitter for Android  RT @tastemade: If you're craving lasagna, but ...   \n",
       "4464  Twitter for Android  RT @DiplyDelicious: What's for dinner tonight?...   \n",
       "4465            Instagram  #homecooking #pasta #aldi #aldifinds #italianf...   \n",
       "\n",
       "     user_flwr_count           user_name  \n",
       "4461             254                 SMB  \n",
       "4462             126  Samantha Verdaguer  \n",
       "4463             191               Valen  \n",
       "4464             202      Charity Radebe  \n",
       "4465             170          Ros Krasny  "
      ]
     },
     "execution_count": 24,
     "metadata": {},
     "output_type": "execute_result"
    }
   ],
   "source": [
    "df.tail()"
   ]
  },
  {
   "cell_type": "code",
   "execution_count": 14,
   "metadata": {
    "collapsed": true
   },
   "outputs": [],
   "source": [
    "df.to_csv(file_name, index=False,header=False)"
   ]
  },
  {
   "cell_type": "code",
   "execution_count": 15,
   "metadata": {
    "collapsed": false
   },
   "outputs": [],
   "source": [
    "columns = ['date','favorites','id','retweets','source','text','user_flwr_count','user_name']\n",
    "data = pd.read_csv(file_name,header = None,names = columns,parse_dates=['date'],dtype={'id':str,'favorites':str,'retweets':str,'user_flwr_count':str})\n",
    "new_df = data.dropna(subset=['id','favorites','retweets','user_flwr_count'])\n",
    "new_df.to_csv(file_name, index=False,header=False) \n",
    "\n",
    "data = pd.read_csv(file_name,header = None,names = columns,parse_dates=['date'],dtype={'id':str,'favorites':int,'retweets':int,'user_flwr_count':int})"
   ]
  },
  {
   "cell_type": "code",
   "execution_count": 16,
   "metadata": {
    "collapsed": false
   },
   "outputs": [
    {
     "data": {
      "text/html": [
       "<div>\n",
       "<table border=\"1\" class=\"dataframe\">\n",
       "  <thead>\n",
       "    <tr style=\"text-align: right;\">\n",
       "      <th></th>\n",
       "      <th>date</th>\n",
       "      <th>favorites</th>\n",
       "      <th>id</th>\n",
       "      <th>retweets</th>\n",
       "      <th>source</th>\n",
       "      <th>text</th>\n",
       "      <th>user_flwr_count</th>\n",
       "      <th>user_name</th>\n",
       "    </tr>\n",
       "  </thead>\n",
       "  <tbody>\n",
       "    <tr>\n",
       "      <th>9995</th>\n",
       "      <td>2018-04-11 03:20:51</td>\n",
       "      <td>0</td>\n",
       "      <td>983907703474008065</td>\n",
       "      <td>83</td>\n",
       "      <td>Twitter Web Client</td>\n",
       "      <td>RT @GrumpysHoneyB: What are you having on your...</td>\n",
       "      <td>10584</td>\n",
       "      <td>Prime Beauty Blog</td>\n",
       "    </tr>\n",
       "    <tr>\n",
       "      <th>9996</th>\n",
       "      <td>2018-04-11 03:16:35</td>\n",
       "      <td>0</td>\n",
       "      <td>983906628985589760</td>\n",
       "      <td>127</td>\n",
       "      <td>My Scheduler Retweets</td>\n",
       "      <td>RT @DomesticSup: This Southwest Pizza is loade...</td>\n",
       "      <td>2529</td>\n",
       "      <td>Chanel van Reenen</td>\n",
       "    </tr>\n",
       "    <tr>\n",
       "      <th>9997</th>\n",
       "      <td>2018-04-11 03:15:49</td>\n",
       "      <td>0</td>\n",
       "      <td>983906437381341184</td>\n",
       "      <td>0</td>\n",
       "      <td>Instagram</td>\n",
       "      <td>Sometimes I crave for a #pizza #pizzalover #fo...</td>\n",
       "      <td>1671</td>\n",
       "      <td>Harif Salam</td>\n",
       "    </tr>\n",
       "    <tr>\n",
       "      <th>9998</th>\n",
       "      <td>2018-04-11 03:15:42</td>\n",
       "      <td>0</td>\n",
       "      <td>983906408801292289</td>\n",
       "      <td>0</td>\n",
       "      <td>Instagram</td>\n",
       "      <td>Yes, I am tracing this #AMAZING #ChickenAlfred...</td>\n",
       "      <td>1485</td>\n",
       "      <td>Jeremy Petrachonis</td>\n",
       "    </tr>\n",
       "    <tr>\n",
       "      <th>9999</th>\n",
       "      <td>2018-04-11 03:15:34</td>\n",
       "      <td>0</td>\n",
       "      <td>983906373732745221</td>\n",
       "      <td>1</td>\n",
       "      <td>Beer and Pizza - Rewteet</td>\n",
       "      <td>RT @party_on_cheers: Join 7 people right now a...</td>\n",
       "      <td>2755</td>\n",
       "      <td>Beer and Pizza Day!</td>\n",
       "    </tr>\n",
       "  </tbody>\n",
       "</table>\n",
       "</div>"
      ],
      "text/plain": [
       "                    date  favorites                  id  retweets  \\\n",
       "9995 2018-04-11 03:20:51          0  983907703474008065        83   \n",
       "9996 2018-04-11 03:16:35          0  983906628985589760       127   \n",
       "9997 2018-04-11 03:15:49          0  983906437381341184         0   \n",
       "9998 2018-04-11 03:15:42          0  983906408801292289         0   \n",
       "9999 2018-04-11 03:15:34          0  983906373732745221         1   \n",
       "\n",
       "                        source  \\\n",
       "9995        Twitter Web Client   \n",
       "9996    My Scheduler Retweets    \n",
       "9997                 Instagram   \n",
       "9998                 Instagram   \n",
       "9999  Beer and Pizza - Rewteet   \n",
       "\n",
       "                                                   text  user_flwr_count  \\\n",
       "9995  RT @GrumpysHoneyB: What are you having on your...            10584   \n",
       "9996  RT @DomesticSup: This Southwest Pizza is loade...             2529   \n",
       "9997  Sometimes I crave for a #pizza #pizzalover #fo...             1671   \n",
       "9998  Yes, I am tracing this #AMAZING #ChickenAlfred...             1485   \n",
       "9999  RT @party_on_cheers: Join 7 people right now a...             2755   \n",
       "\n",
       "                user_name  \n",
       "9995    Prime Beauty Blog  \n",
       "9996    Chanel van Reenen  \n",
       "9997          Harif Salam  \n",
       "9998   Jeremy Petrachonis  \n",
       "9999  Beer and Pizza Day!  "
      ]
     },
     "execution_count": 16,
     "metadata": {},
     "output_type": "execute_result"
    }
   ],
   "source": [
    "data.tail()"
   ]
  },
  {
   "cell_type": "code",
   "execution_count": null,
   "metadata": {
    "collapsed": true
   },
   "outputs": [],
   "source": []
  }
 ],
 "metadata": {
  "anaconda-cloud": {},
  "kernelspec": {
   "display_name": "Python [conda root]",
   "language": "python",
   "name": "conda-root-py"
  },
  "language_info": {
   "codemirror_mode": {
    "name": "ipython",
    "version": 3
   },
   "file_extension": ".py",
   "mimetype": "text/x-python",
   "name": "python",
   "nbconvert_exporter": "python",
   "pygments_lexer": "ipython3",
   "version": "3.5.2"
  }
 },
 "nbformat": 4,
 "nbformat_minor": 1
}
