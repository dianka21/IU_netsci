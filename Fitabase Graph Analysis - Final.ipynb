{
 "cells": [
  {
   "cell_type": "code",
   "execution_count": 53,
   "metadata": {
    "collapsed": true
   },
   "outputs": [],
   "source": [
    "import networkx as nx\n",
    "import numpy as np\n",
    "import pandas as pd\n",
    "%matplotlib inline\n",
    "import matplotlib.pyplot as plt\n",
    "import linkcom"
   ]
  },
  {
   "cell_type": "markdown",
   "metadata": {},
   "source": [
    "## Graph Building Functions"
   ]
  },
  {
   "cell_type": "code",
   "execution_count": 54,
   "metadata": {
    "collapsed": false
   },
   "outputs": [],
   "source": [
    "def add_update_edge(G,n1,n2):\n",
    "    #Add a new edge or add weight to the existing edge\n",
    "    if str(n1) in G[n2]:\n",
    "        G[n1][n2]['weight'] += 1\n",
    "    else:\n",
    "        G.add_edge(n1, n2, weight = 1)\n",
    "    return(G)"
   ]
  },
  {
   "cell_type": "code",
   "execution_count": 55,
   "metadata": {
    "collapsed": false
   },
   "outputs": [],
   "source": [
    "def add_update_node(G,n,n_type):\n",
    "    #Add a new node or add weight to the existing node\n",
    "    if n in G:\n",
    "        G.node[n]['node_weight'] += 1\n",
    "    else:\n",
    "        G.add_node(n, node_type = n_type, node_weight = 1)\n",
    "    return(G)"
   ]
  },
  {
   "cell_type": "code",
   "execution_count": 56,
   "metadata": {
    "collapsed": false
   },
   "outputs": [],
   "source": [
    "def build_attribute_graph(df, attributes):\n",
    "    #define new graph, add nodes from attribute values in dataframe df, add links between values in the same row\n",
    "    G = nx.Graph()\n",
    "    for row, data in df.iterrows():\n",
    "        for k in attributes:\n",
    "            #add nodes and node types\n",
    "            if not data[k] is np.nan:\n",
    "                add_update_node(G, str(data[k]), k)\n",
    "        for k in attributes:      \n",
    "            #add links and weights for each co-occurring pair of attributes\n",
    "            for j in attributes:\n",
    "                if (j > k) and (not data[j] is np.nan) and (not data[k] is np.nan):\n",
    "                    add_update_edge(G,str(data[j]),str(data[k]))\n",
    "    return(G)"
   ]
  },
  {
   "cell_type": "code",
   "execution_count": 57,
   "metadata": {
    "collapsed": false
   },
   "outputs": [],
   "source": [
    "def upd_node_type(G, attibute_list, category):\n",
    "    for x in G.nodes.data():\n",
    "        if (x[1]['node_type'] in list(attibute_list)):\n",
    "            x[1]['node_type'] = category    "
   ]
  },
  {
   "cell_type": "markdown",
   "metadata": {},
   "source": [
    "## Fitabase graph analysis\n",
    "### Read in fitabase spreadsheet data"
   ]
  },
  {
   "cell_type": "code",
   "execution_count": 58,
   "metadata": {
    "collapsed": false
   },
   "outputs": [],
   "source": [
    "columns = ['title', 'author', 'year', 'journal', 'effect', 'condition', 'factor_1', 'factor_2', 'factor_3', 'factors_combined', 'health_1', 'health_2', 'demographic']\n",
    "fitabase = pd.read_csv('fit3.csv', header = None, names = columns)"
   ]
  },
  {
   "cell_type": "code",
   "execution_count": 59,
   "metadata": {
    "collapsed": false
   },
   "outputs": [],
   "source": [
    "#Filter out entries that have Additional Factors used along with Fitbit\n",
    "fit_factors = fitabase[fitabase['condition'] == 'A']"
   ]
  },
  {
   "cell_type": "code",
   "execution_count": 60,
   "metadata": {
    "collapsed": false
   },
   "outputs": [
    {
     "data": {
      "text/html": [
       "<div>\n",
       "<table border=\"1\" class=\"dataframe\">\n",
       "  <thead>\n",
       "    <tr style=\"text-align: right;\">\n",
       "      <th></th>\n",
       "      <th>title</th>\n",
       "      <th>author</th>\n",
       "      <th>year</th>\n",
       "      <th>journal</th>\n",
       "      <th>effect</th>\n",
       "      <th>condition</th>\n",
       "      <th>factor_1</th>\n",
       "      <th>factor_2</th>\n",
       "      <th>factor_3</th>\n",
       "      <th>factors_combined</th>\n",
       "      <th>health_1</th>\n",
       "      <th>health_2</th>\n",
       "      <th>demographic</th>\n",
       "    </tr>\n",
       "  </thead>\n",
       "  <tbody>\n",
       "    <tr>\n",
       "      <th>1</th>\n",
       "      <td>Go4Life exercise counseling, accelerometer fee...</td>\n",
       "      <td>Thompson, W.G., Kuhle, C.L., Koepp, G.A., McCr...</td>\n",
       "      <td>2014</td>\n",
       "      <td>Archives of Gerontology and Geriatrics</td>\n",
       "      <td>1</td>\n",
       "      <td>A</td>\n",
       "      <td>Coaching</td>\n",
       "      <td>NaN</td>\n",
       "      <td>NaN</td>\n",
       "      <td>Coaching</td>\n",
       "      <td>Overweight</td>\n",
       "      <td>NaN</td>\n",
       "      <td>Older Adults</td>\n",
       "    </tr>\n",
       "    <tr>\n",
       "      <th>3</th>\n",
       "      <td>Enhancing physical activity promotion in midli...</td>\n",
       "      <td>Butryn, M.L., Arigo, D., Raggio, G.a., Colasan...</td>\n",
       "      <td>2014</td>\n",
       "      <td>Journal of Health Psychology</td>\n",
       "      <td>2</td>\n",
       "      <td>A</td>\n",
       "      <td>Coaching</td>\n",
       "      <td>NaN</td>\n",
       "      <td>NaN</td>\n",
       "      <td>Coaching</td>\n",
       "      <td>Healthy</td>\n",
       "      <td>NaN</td>\n",
       "      <td>Women</td>\n",
       "    </tr>\n",
       "  </tbody>\n",
       "</table>\n",
       "</div>"
      ],
      "text/plain": [
       "                                               title  \\\n",
       "1  Go4Life exercise counseling, accelerometer fee...   \n",
       "3  Enhancing physical activity promotion in midli...   \n",
       "\n",
       "                                              author  year  \\\n",
       "1  Thompson, W.G., Kuhle, C.L., Koepp, G.A., McCr...  2014   \n",
       "3  Butryn, M.L., Arigo, D., Raggio, G.a., Colasan...  2014   \n",
       "\n",
       "                                  journal effect condition  factor_1 factor_2  \\\n",
       "1  Archives of Gerontology and Geriatrics      1         A  Coaching      NaN   \n",
       "3            Journal of Health Psychology      2         A  Coaching      NaN   \n",
       "\n",
       "  factor_3 factors_combined    health_1 health_2   demographic  \n",
       "1      NaN         Coaching  Overweight      NaN  Older Adults  \n",
       "3      NaN         Coaching     Healthy      NaN         Women  "
      ]
     },
     "execution_count": 60,
     "metadata": {},
     "output_type": "execute_result"
    }
   ],
   "source": [
    "fit_factors.head(2)"
   ]
  },
  {
   "cell_type": "markdown",
   "metadata": {},
   "source": [
    "### Call function to build a graph of co-occuring values for selected attributes"
   ]
  },
  {
   "cell_type": "code",
   "execution_count": 61,
   "metadata": {
    "collapsed": false
   },
   "outputs": [
    {
     "name": "stdout",
     "output_type": "stream",
     "text": [
      "Name: \n",
      "Type: Graph\n",
      "Number of nodes: 38\n",
      "Number of edges: 129\n",
      "Average degree:   6.7895\n"
     ]
    }
   ],
   "source": [
    "fit_attributes = ['factor_1', 'factor_2', 'factor_3', 'health_1', 'health_2', 'demographic']\n",
    "fit_graph = build_attribute_graph(fit_factors, fit_attributes)\n",
    "print(nx.info(fit_graph))"
   ]
  },
  {
   "cell_type": "code",
   "execution_count": 62,
   "metadata": {
    "collapsed": false
   },
   "outputs": [],
   "source": [
    "#Combine attributes into node types\n",
    "upd_node_type(fit_graph, ['health_1','health_2'], 'health')\n",
    "upd_node_type(fit_graph, ['factor_1', 'factor_2', 'factor_3'], 'factor')"
   ]
  },
  {
   "cell_type": "markdown",
   "metadata": {},
   "source": [
    "#### demonstrating query neighbors in a graph"
   ]
  },
  {
   "cell_type": "code",
   "execution_count": 97,
   "metadata": {
    "collapsed": false
   },
   "outputs": [
    {
     "name": "stdout",
     "output_type": "stream",
     "text": [
      "Obese\n",
      "Social Support\n",
      "Adults\n",
      "Coaching\n",
      "Web App\n"
     ]
    }
   ],
   "source": [
    "for n in fit_graph.neighbors('Diabetes'):\n",
    "    print(n)"
   ]
  },
  {
   "cell_type": "code",
   "execution_count": 102,
   "metadata": {
    "collapsed": false
   },
   "outputs": [
    {
     "data": {
      "text/plain": [
       "['Obese', 'Social Support', 'Adults', 'Coaching', 'Web App']"
      ]
     },
     "execution_count": 102,
     "metadata": {},
     "output_type": "execute_result"
    }
   ],
   "source": [
    "[n for n in fit_graph.neighbors('Diabetes')]"
   ]
  },
  {
   "cell_type": "markdown",
   "metadata": {},
   "source": [
    "#### draw the graph"
   ]
  },
  {
   "cell_type": "code",
   "execution_count": 63,
   "metadata": {
    "collapsed": false
   },
   "outputs": [
    {
     "data": {
      "image/png": "[encoded data removed]",
      "text/plain": [
       "<matplotlib.figure.Figure at 0x7f1a002f3668>"
      ]
     },
     "metadata": {},
     "output_type": "display_data"
    }
   ],
   "source": [
    "nx.draw(fit_graph, with_labels = False)"
   ]
  },
  {
   "cell_type": "markdown",
   "metadata": {},
   "source": [
    "Graph visualization shows a dense core and many periphery nodes"
   ]
  },
  {
   "cell_type": "markdown",
   "metadata": {},
   "source": [
    "### Derive network properties - link community detection"
   ]
  },
  {
   "cell_type": "code",
   "execution_count": 65,
   "metadata": {
    "collapsed": true
   },
   "outputs": [],
   "source": [
    "def num_of_partitions(dict):\n",
    "    #derive number of unique values in a dictionary\n",
    "    partitions = []\n",
    "    for v in dict.values():\n",
    "        if v not in partitions:\n",
    "            partitions.append(v)\n",
    "    return(len(partitions))"
   ]
  },
  {
   "cell_type": "code",
   "execution_count": 64,
   "metadata": {
    "collapsed": false
   },
   "outputs": [
    {
     "name": "stdout",
     "output_type": "stream",
     "text": [
      "clustering...\n",
      "computing similarities...\n",
      "# D_max = 0.303950\n",
      "# S_max = 0.466667\n"
     ]
    }
   ],
   "source": [
    "#determine link community clusters\n",
    "e2c, S, D, Dlist = linkcom.cluster(fit_graph)"
   ]
  },
  {
   "cell_type": "code",
   "execution_count": 71,
   "metadata": {
    "collapsed": false
   },
   "outputs": [
    {
     "name": "stdout",
     "output_type": "stream",
     "text": [
      "Number of partitions: 42\n"
     ]
    }
   ],
   "source": [
    "#find number of link communities in the edge-to-community dictionary\n",
    "print(\"Number of partitions:\",num_of_partitions(e2c))\n",
    "\n",
    "# Make new link communities attributes of the graph\n",
    "nx.set_edge_attributes(fit_graph, e2c, \"linkcom\")"
   ]
  },
  {
   "cell_type": "code",
   "execution_count": 72,
   "metadata": {
    "collapsed": true
   },
   "outputs": [],
   "source": [
    "# Write detailed graph with 42 partitions\n",
    "nx.write_gexf(fit_graph, 'fit_graph_42.gexf')"
   ]
  },
  {
   "cell_type": "markdown",
   "metadata": {},
   "source": [
    "## Build dendrogram of link communities to determine the threshold levels of community detection algorithm that controls granulatiry"
   ]
  },
  {
   "cell_type": "code",
   "execution_count": 67,
   "metadata": {
    "collapsed": false
   },
   "outputs": [
    {
     "name": "stdout",
     "output_type": "stream",
     "text": [
      "clustering...\n",
      "computing similarities...\n",
      "# D_max = 0.303950\n",
      "# S_max = 0.466667\n"
     ]
    }
   ],
   "source": [
    "e2c_1, S_1, D_1, Dlist_1, e2c_orig, dendro = linkcom.cluster(fit_graph, dendro_flag = True)"
   ]
  },
  {
   "cell_type": "code",
   "execution_count": 68,
   "metadata": {
    "collapsed": false
   },
   "outputs": [
    {
     "name": "stdout",
     "output_type": "stream",
     "text": [
      "Number of levels: 36 \n",
      " [1.0, 0.8333333333333334, 0.75, 0.7142857142857143, 0.6111111111111112, 0.6, 0.5882352941176471, 0.5789473684210527, 0.5555555555555556, 0.5333333333333333, 0.5, 0.47619047619047616, 0.46875, 0.4666666666666667, 0.46153846153846156, 0.45833333333333326, 0.4545454545454546, 0.4482758620689655, 0.4444444444444444, 0.4347826086956521, 0.4285714285714286, 0.41666666666666674, 0.4, 0.38888888888888884, 0.375, 0.368421052631579, 0.36363636363636365, 0.3571428571428572, 0.3529411764705883, 0.33333333333333326, 0.30000000000000004, 0.2857142857142857, 0.2666666666666666, 0.26315789473684204, 0.2068965517241379, 0.18181818181818188]\n"
     ]
    }
   ],
   "source": [
    "d_levels = []\n",
    "for d in dendro:\n",
    "    if d[2] not in d_levels:\n",
    "        d_levels.append(d[2])\n",
    "print(\"Number of levels:\", len(d_levels), \"\\n\", d_levels)"
   ]
  },
  {
   "cell_type": "markdown",
   "metadata": {},
   "source": [
    "### Try different threshold levels of community detection and compare the number of partitions"
   ]
  },
  {
   "cell_type": "code",
   "execution_count": 69,
   "metadata": {
    "collapsed": false
   },
   "outputs": [
    {
     "name": "stdout",
     "output_type": "stream",
     "text": [
      "clustering...\n",
      "computing similarities...\n",
      "# D_thr =  0.2510692529844378\n",
      "Number of partitions: 19\n"
     ]
    }
   ],
   "source": [
    "e2c_2, D_2 = linkcom.cluster(fit_graph, threshold = 0.4)\n",
    "\n",
    "#find number of link communities in the edge-to-community dictionary\n",
    "print(\"Number of partitions:\", num_of_partitions(e2c_2))\n",
    "\n",
    "# Make new link communities attributes of the graph\n",
    "nx.set_edge_attributes(fit_graph, e2c_2, \"linkcom\")"
   ]
  },
  {
   "cell_type": "code",
   "execution_count": 70,
   "metadata": {
    "collapsed": false
   },
   "outputs": [
    {
     "name": "stdout",
     "output_type": "stream",
     "text": [
      "clustering...\n",
      "computing similarities...\n",
      "# D_thr =  0.20987003729585937\n",
      "Number of partitions: 11\n"
     ]
    }
   ],
   "source": [
    "e2c_2, D_2 = linkcom.cluster(fit_graph, threshold = 0.36)\n",
    "\n",
    "#find number of link communities in the edge-to-community dictionary\n",
    "print(\"Number of partitions:\", num_of_partitions(e2c_2))\n",
    "\n",
    "# Make new link communities attributes of the graph\n",
    "nx.set_edge_attributes(fit_graph, e2c_2, \"linkcom\")"
   ]
  },
  {
   "cell_type": "markdown",
   "metadata": {},
   "source": [
    "### Write to external file for Gephi visualization\n",
    "#### Run Gephi modularity algorithm to explore node communities\n",
    "#### Use Gephi to visualize link community using edge attribute 'linkcom'"
   ]
  },
  {
   "cell_type": "code",
   "execution_count": 46,
   "metadata": {
    "collapsed": true
   },
   "outputs": [],
   "source": [
    "# Write coarse graph with 19 partitions\n",
    "nx.write_gexf(fit_graph, 'fit_graph_19.gexf')"
   ]
  },
  {
   "cell_type": "markdown",
   "metadata": {},
   "source": [
    "## More functions to drill down in community details: list edges, find top nodes"
   ]
  },
  {
   "cell_type": "code",
   "execution_count": 92,
   "metadata": {
    "collapsed": false
   },
   "outputs": [],
   "source": [
    "def list_edges(e2c_dictionary):\n",
    "    #list edges per link community\n",
    "    communities = {}\n",
    "    for i in e2c_dictionary.items():\n",
    "        if i[1] not in communities:\n",
    "            edges = []\n",
    "            edges.append(i[0])\n",
    "            communities[i[1]] = edges\n",
    "        else:\n",
    "            communities[i[1]].append(i[0])\n",
    "    return(communities)"
   ]
  },
  {
   "cell_type": "code",
   "execution_count": 76,
   "metadata": {
    "collapsed": false
   },
   "outputs": [],
   "source": [
    "def find_top_2_nodes(community):\n",
    "    #find node in the link community with most local links within the community\n",
    "    community_nodes = {}\n",
    "    edges = community[1]\n",
    "    for edge in edges:\n",
    "        for node in edge:\n",
    "            if node in community_nodes:\n",
    "                community_nodes[node] += 1\n",
    "            else:            \n",
    "                community_nodes[node] = 1\n",
    "    num_nodes = len(community_nodes)\n",
    "    max_value = np.max(list(community_nodes.values()))\n",
    "    top_2_nodes = []\n",
    "    for item, value in community_nodes.items():\n",
    "        if value == max_value:\n",
    "            top_2_nodes.append(item)\n",
    "    return(top_2_nodes[:2], max_value, num_nodes, list(community_nodes.keys()))"
   ]
  },
  {
   "cell_type": "code",
   "execution_count": 93,
   "metadata": {
    "collapsed": true
   },
   "outputs": [],
   "source": [
    "def build_edge_df(e2c_dictionary):\n",
    "    #store link communities in a dataframe, identify top nodes and sort according to community strength\n",
    "    communities = pd.DataFrame()\n",
    "    top_nodes = []\n",
    "    max_values = []\n",
    "    number_nodes = []\n",
    "    node_names = []\n",
    "    for community in list_edges(e2c_dictionary).items():\n",
    "        top_2_nodes, max_value, num_nodes, nodes = find_top_2_nodes(community)\n",
    "        top_nodes.append(top_2_nodes)\n",
    "        max_values.append(max_value)\n",
    "        number_nodes.append(num_nodes)\n",
    "        node_names.append(nodes)\n",
    "    communities['top nodes'] = top_nodes\n",
    "    #communities['max_value'] = max_values\n",
    "    communities['number of nodes'] = number_nodes\n",
    "    communities['community nodes'] = node_names\n",
    "    communities['community links'] = list_edges(e2c_dictionary).values()\n",
    "    communities.sort_values(by = 'number of nodes', ascending = False, inplace = True)\n",
    "    return(communities)"
   ]
  },
  {
   "cell_type": "code",
   "execution_count": 95,
   "metadata": {
    "collapsed": false
   },
   "outputs": [],
   "source": [
    "#Build dataframe from the Fitabase graph\n",
    "fit_communities_19 = build_edge_df(e2c_2)"
   ]
  },
  {
   "cell_type": "code",
   "execution_count": 94,
   "metadata": {
    "collapsed": false
   },
   "outputs": [
    {
     "data": {
      "text/html": [
       "<div>\n",
       "<table border=\"1\" class=\"dataframe\">\n",
       "  <thead>\n",
       "    <tr style=\"text-align: right;\">\n",
       "      <th></th>\n",
       "      <th>top nodes</th>\n",
       "      <th>number of nodes</th>\n",
       "      <th>community nodes</th>\n",
       "      <th>community links</th>\n",
       "    </tr>\n",
       "  </thead>\n",
       "  <tbody>\n",
       "    <tr>\n",
       "      <th>19</th>\n",
       "      <td>[Gamification, Obese]</td>\n",
       "      <td>8</td>\n",
       "      <td>[Gamification, Obese, Adults, Coaching, Messag...</td>\n",
       "      <td>[(Coaching, Women), (Gamification, Messaging),...</td>\n",
       "    </tr>\n",
       "    <tr>\n",
       "      <th>29</th>\n",
       "      <td>[Personal Training]</td>\n",
       "      <td>8</td>\n",
       "      <td>[Obese, Ovarian Cancer, Coaching, Men, Messagi...</td>\n",
       "      <td>[(Messaging, Personal Training), (Obese, Perso...</td>\n",
       "    </tr>\n",
       "    <tr>\n",
       "      <th>38</th>\n",
       "      <td>[Healthy]</td>\n",
       "      <td>7</td>\n",
       "      <td>[Gamification, Healthy, Coaching, Messaging, W...</td>\n",
       "      <td>[(Adults, Healthy), (Healthy, Women), (Healthy...</td>\n",
       "    </tr>\n",
       "    <tr>\n",
       "      <th>33</th>\n",
       "      <td>[Social Support]</td>\n",
       "      <td>6</td>\n",
       "      <td>[Obese, Social Support, Coaching, Overweight, ...</td>\n",
       "      <td>[(Adults, Social Support), (Overweight, Social...</td>\n",
       "    </tr>\n",
       "    <tr>\n",
       "      <th>14</th>\n",
       "      <td>[Young Adults]</td>\n",
       "      <td>6</td>\n",
       "      <td>[Obese, Gamification, Young Adults, Coaching, ...</td>\n",
       "      <td>[(Overweight, Young Adults), (Obese, Twitter),...</td>\n",
       "    </tr>\n",
       "    <tr>\n",
       "      <th>2</th>\n",
       "      <td>[Support Group]</td>\n",
       "      <td>5</td>\n",
       "      <td>[Support Group, Women, Adults, Coaching, Overw...</td>\n",
       "      <td>[(Coaching, Support Group), (Adults, Support G...</td>\n",
       "    </tr>\n",
       "    <tr>\n",
       "      <th>40</th>\n",
       "      <td>[Mobile App]</td>\n",
       "      <td>5</td>\n",
       "      <td>[Obese, Women, Coaching, Mobile App, Overweight]</td>\n",
       "      <td>[(Mobile App, Obese), (Mobile App, Overweight)...</td>\n",
       "    </tr>\n",
       "    <tr>\n",
       "      <th>5</th>\n",
       "      <td>[Breast Cancer]</td>\n",
       "      <td>5</td>\n",
       "      <td>[Messaging, Breast Cancer, Web App, Coaching, ...</td>\n",
       "      <td>[(Breast Cancer, Messaging), (Breast Cancer, W...</td>\n",
       "    </tr>\n",
       "    <tr>\n",
       "      <th>9</th>\n",
       "      <td>[Adolescents]</td>\n",
       "      <td>5</td>\n",
       "      <td>[Obese, Adolescents, Messaging, Web App, Overw...</td>\n",
       "      <td>[(Adolescents, Obese), (Adolescents, Overweigh...</td>\n",
       "    </tr>\n",
       "    <tr>\n",
       "      <th>16</th>\n",
       "      <td>[Cardiometabolic Risk, Adults]</td>\n",
       "      <td>4</td>\n",
       "      <td>[Cardiometabolic Risk, Adults, Coaching, Knee ...</td>\n",
       "      <td>[(Adults, Cardiometabolic Risk), (Cardiometabo...</td>\n",
       "    </tr>\n",
       "    <tr>\n",
       "      <th>26</th>\n",
       "      <td>[Healthy]</td>\n",
       "      <td>4</td>\n",
       "      <td>[Cash, Charity Incentives, Healthy, Older Adults]</td>\n",
       "      <td>[(Charity Incentives, Healthy), (Healthy, Olde...</td>\n",
       "    </tr>\n",
       "    <tr>\n",
       "      <th>21</th>\n",
       "      <td>[Web App, ASCVD]</td>\n",
       "      <td>4</td>\n",
       "      <td>[Web App, ASCVD, Podcasts , Women]</td>\n",
       "      <td>[(ASCVD, Women), (Podcasts , Web App), (Podcas...</td>\n",
       "    </tr>\n",
       "    <tr>\n",
       "      <th>7</th>\n",
       "      <td>[Alcoholism, Pregnancy]</td>\n",
       "      <td>4</td>\n",
       "      <td>[Alcoholism, Pregnancy, Coaching, Women]</td>\n",
       "      <td>[(Pregnancy, Women), (Alcoholism, Women), (Alc...</td>\n",
       "    </tr>\n",
       "    <tr>\n",
       "      <th>30</th>\n",
       "      <td>[Cancer Survivors]</td>\n",
       "      <td>3</td>\n",
       "      <td>[Cancer Survivors, Adults, Coaching]</td>\n",
       "      <td>[(Adults, Cancer Survivors), (Cancer Survivors...</td>\n",
       "    </tr>\n",
       "    <tr>\n",
       "      <th>27</th>\n",
       "      <td>[Facebook Group, Adolescents]</td>\n",
       "      <td>3</td>\n",
       "      <td>[Facebook Group, Adolescents, ADHD]</td>\n",
       "      <td>[(ADHD, Facebook Group), (Adolescents, Faceboo...</td>\n",
       "    </tr>\n",
       "    <tr>\n",
       "      <th>20</th>\n",
       "      <td>[Diabetes]</td>\n",
       "      <td>3</td>\n",
       "      <td>[Obese, Diabetes, Web App]</td>\n",
       "      <td>[(Diabetes, Web App), (Diabetes, Obese)]</td>\n",
       "    </tr>\n",
       "    <tr>\n",
       "      <th>35</th>\n",
       "      <td>[Healthy]</td>\n",
       "      <td>3</td>\n",
       "      <td>[Facebook Group, Adolescents, Healthy]</td>\n",
       "      <td>[(Facebook Group, Healthy), (Adolescents, Heal...</td>\n",
       "    </tr>\n",
       "    <tr>\n",
       "      <th>25</th>\n",
       "      <td>[Lung Transplant]</td>\n",
       "      <td>3</td>\n",
       "      <td>[Gamification, Lung Transplant, Web App]</td>\n",
       "      <td>[(Gamification, Lung Transplant), (Lung Transp...</td>\n",
       "    </tr>\n",
       "    <tr>\n",
       "      <th>22</th>\n",
       "      <td>[Older Adults]</td>\n",
       "      <td>3</td>\n",
       "      <td>[Older Adults, Coaching, Overweight]</td>\n",
       "      <td>[(Coaching, Older Adults), (Older Adults, Over...</td>\n",
       "    </tr>\n",
       "    <tr>\n",
       "      <th>31</th>\n",
       "      <td>[Charity Incentives, Cash]</td>\n",
       "      <td>3</td>\n",
       "      <td>[Charity Incentives, Cash, Older Adults]</td>\n",
       "      <td>[(Charity Incentives, Older Adults), (Cash, Ol...</td>\n",
       "    </tr>\n",
       "    <tr>\n",
       "      <th>0</th>\n",
       "      <td>[Adults]</td>\n",
       "      <td>3</td>\n",
       "      <td>[Charity Incentives, Adults, Cash]</td>\n",
       "      <td>[(Adults, Cash), (Adults, Charity Incentives)]</td>\n",
       "    </tr>\n",
       "    <tr>\n",
       "      <th>10</th>\n",
       "      <td>[Lung Transplant]</td>\n",
       "      <td>3</td>\n",
       "      <td>[Lung Transplant, Adults, Coaching]</td>\n",
       "      <td>[(Adults, Lung Transplant), (Coaching, Lung Tr...</td>\n",
       "    </tr>\n",
       "    <tr>\n",
       "      <th>3</th>\n",
       "      <td>[Diabetes]</td>\n",
       "      <td>3</td>\n",
       "      <td>[Adults, Coaching, Diabetes]</td>\n",
       "      <td>[(Adults, Diabetes), (Coaching, Diabetes)]</td>\n",
       "    </tr>\n",
       "    <tr>\n",
       "      <th>15</th>\n",
       "      <td>[Coaching]</td>\n",
       "      <td>3</td>\n",
       "      <td>[Leukemia, Children, Coaching]</td>\n",
       "      <td>[(Coaching, Leukemia), (Children, Coaching)]</td>\n",
       "    </tr>\n",
       "    <tr>\n",
       "      <th>32</th>\n",
       "      <td>[Personal Training, Ovarian Cancer]</td>\n",
       "      <td>2</td>\n",
       "      <td>[Personal Training, Ovarian Cancer]</td>\n",
       "      <td>[(Ovarian Cancer, Personal Training)]</td>\n",
       "    </tr>\n",
       "    <tr>\n",
       "      <th>39</th>\n",
       "      <td>[ASCVD, Podcasts ]</td>\n",
       "      <td>2</td>\n",
       "      <td>[ASCVD, Podcasts ]</td>\n",
       "      <td>[(ASCVD, Podcasts )]</td>\n",
       "    </tr>\n",
       "    <tr>\n",
       "      <th>4</th>\n",
       "      <td>[Men, Personal Training]</td>\n",
       "      <td>2</td>\n",
       "      <td>[Men, Personal Training]</td>\n",
       "      <td>[(Men, Personal Training)]</td>\n",
       "    </tr>\n",
       "    <tr>\n",
       "      <th>37</th>\n",
       "      <td>[Children, Social Support]</td>\n",
       "      <td>2</td>\n",
       "      <td>[Children, Social Support]</td>\n",
       "      <td>[(Children, Social Support)]</td>\n",
       "    </tr>\n",
       "    <tr>\n",
       "      <th>36</th>\n",
       "      <td>[Leukemia, Children]</td>\n",
       "      <td>2</td>\n",
       "      <td>[Leukemia, Children]</td>\n",
       "      <td>[(Children, Leukemia)]</td>\n",
       "    </tr>\n",
       "    <tr>\n",
       "      <th>6</th>\n",
       "      <td>[Messaging, Cancer Survivors]</td>\n",
       "      <td>2</td>\n",
       "      <td>[Messaging, Cancer Survivors]</td>\n",
       "      <td>[(Cancer Survivors, Messaging)]</td>\n",
       "    </tr>\n",
       "    <tr>\n",
       "      <th>34</th>\n",
       "      <td>[Social Support, Older Adults]</td>\n",
       "      <td>2</td>\n",
       "      <td>[Social Support, Older Adults]</td>\n",
       "      <td>[(Older Adults, Social Support)]</td>\n",
       "    </tr>\n",
       "    <tr>\n",
       "      <th>8</th>\n",
       "      <td>[TKA, Adults]</td>\n",
       "      <td>2</td>\n",
       "      <td>[TKA, Adults]</td>\n",
       "      <td>[(Adults, TKA)]</td>\n",
       "    </tr>\n",
       "    <tr>\n",
       "      <th>1</th>\n",
       "      <td>[Healthy, Social Support]</td>\n",
       "      <td>2</td>\n",
       "      <td>[Healthy, Social Support]</td>\n",
       "      <td>[(Healthy, Social Support)]</td>\n",
       "    </tr>\n",
       "    <tr>\n",
       "      <th>18</th>\n",
       "      <td>[Children, Healthy]</td>\n",
       "      <td>2</td>\n",
       "      <td>[Children, Healthy]</td>\n",
       "      <td>[(Children, Healthy)]</td>\n",
       "    </tr>\n",
       "    <tr>\n",
       "      <th>11</th>\n",
       "      <td>[Healthy, Facebook Announcement]</td>\n",
       "      <td>2</td>\n",
       "      <td>[Healthy, Facebook Announcement]</td>\n",
       "      <td>[(Facebook Announcement, Healthy)]</td>\n",
       "    </tr>\n",
       "    <tr>\n",
       "      <th>12</th>\n",
       "      <td>[Young Adults, Twitter]</td>\n",
       "      <td>2</td>\n",
       "      <td>[Young Adults, Twitter]</td>\n",
       "      <td>[(Twitter, Young Adults)]</td>\n",
       "    </tr>\n",
       "    <tr>\n",
       "      <th>28</th>\n",
       "      <td>[Autism, Young Adults]</td>\n",
       "      <td>2</td>\n",
       "      <td>[Autism, Young Adults]</td>\n",
       "      <td>[(Autism, Young Adults)]</td>\n",
       "    </tr>\n",
       "    <tr>\n",
       "      <th>13</th>\n",
       "      <td>[Social Support, Diabetes]</td>\n",
       "      <td>2</td>\n",
       "      <td>[Social Support, Diabetes]</td>\n",
       "      <td>[(Diabetes, Social Support)]</td>\n",
       "    </tr>\n",
       "    <tr>\n",
       "      <th>17</th>\n",
       "      <td>[Healthy, Support Group]</td>\n",
       "      <td>2</td>\n",
       "      <td>[Healthy, Support Group]</td>\n",
       "      <td>[(Healthy, Support Group)]</td>\n",
       "    </tr>\n",
       "    <tr>\n",
       "      <th>24</th>\n",
       "      <td>[Facebook Announcement, Adults]</td>\n",
       "      <td>2</td>\n",
       "      <td>[Facebook Announcement, Adults]</td>\n",
       "      <td>[(Adults, Facebook Announcement)]</td>\n",
       "    </tr>\n",
       "    <tr>\n",
       "      <th>23</th>\n",
       "      <td>[Support Group, TKA]</td>\n",
       "      <td>2</td>\n",
       "      <td>[Support Group, TKA]</td>\n",
       "      <td>[(Support Group, TKA)]</td>\n",
       "    </tr>\n",
       "    <tr>\n",
       "      <th>41</th>\n",
       "      <td>[Autism, Coaching]</td>\n",
       "      <td>2</td>\n",
       "      <td>[Autism, Coaching]</td>\n",
       "      <td>[(Autism, Coaching)]</td>\n",
       "    </tr>\n",
       "  </tbody>\n",
       "</table>\n",
       "</div>"
      ],
      "text/plain": [
       "                              top nodes  number of nodes  \\\n",
       "19                [Gamification, Obese]                8   \n",
       "29                  [Personal Training]                8   \n",
       "38                            [Healthy]                7   \n",
       "33                     [Social Support]                6   \n",
       "14                       [Young Adults]                6   \n",
       "2                       [Support Group]                5   \n",
       "40                         [Mobile App]                5   \n",
       "5                       [Breast Cancer]                5   \n",
       "9                         [Adolescents]                5   \n",
       "16       [Cardiometabolic Risk, Adults]                4   \n",
       "26                            [Healthy]                4   \n",
       "21                     [Web App, ASCVD]                4   \n",
       "7               [Alcoholism, Pregnancy]                4   \n",
       "30                   [Cancer Survivors]                3   \n",
       "27        [Facebook Group, Adolescents]                3   \n",
       "20                           [Diabetes]                3   \n",
       "35                            [Healthy]                3   \n",
       "25                    [Lung Transplant]                3   \n",
       "22                       [Older Adults]                3   \n",
       "31           [Charity Incentives, Cash]                3   \n",
       "0                              [Adults]                3   \n",
       "10                    [Lung Transplant]                3   \n",
       "3                            [Diabetes]                3   \n",
       "15                           [Coaching]                3   \n",
       "32  [Personal Training, Ovarian Cancer]                2   \n",
       "39                   [ASCVD, Podcasts ]                2   \n",
       "4              [Men, Personal Training]                2   \n",
       "37           [Children, Social Support]                2   \n",
       "36                 [Leukemia, Children]                2   \n",
       "6         [Messaging, Cancer Survivors]                2   \n",
       "34       [Social Support, Older Adults]                2   \n",
       "8                         [TKA, Adults]                2   \n",
       "1             [Healthy, Social Support]                2   \n",
       "18                  [Children, Healthy]                2   \n",
       "11     [Healthy, Facebook Announcement]                2   \n",
       "12              [Young Adults, Twitter]                2   \n",
       "28               [Autism, Young Adults]                2   \n",
       "13           [Social Support, Diabetes]                2   \n",
       "17             [Healthy, Support Group]                2   \n",
       "24      [Facebook Announcement, Adults]                2   \n",
       "23                 [Support Group, TKA]                2   \n",
       "41                   [Autism, Coaching]                2   \n",
       "\n",
       "                                      community nodes  \\\n",
       "19  [Gamification, Obese, Adults, Coaching, Messag...   \n",
       "29  [Obese, Ovarian Cancer, Coaching, Men, Messagi...   \n",
       "38  [Gamification, Healthy, Coaching, Messaging, W...   \n",
       "33  [Obese, Social Support, Coaching, Overweight, ...   \n",
       "14  [Obese, Gamification, Young Adults, Coaching, ...   \n",
       "2   [Support Group, Women, Adults, Coaching, Overw...   \n",
       "40   [Obese, Women, Coaching, Mobile App, Overweight]   \n",
       "5   [Messaging, Breast Cancer, Web App, Coaching, ...   \n",
       "9   [Obese, Adolescents, Messaging, Web App, Overw...   \n",
       "16  [Cardiometabolic Risk, Adults, Coaching, Knee ...   \n",
       "26  [Cash, Charity Incentives, Healthy, Older Adults]   \n",
       "21                 [Web App, ASCVD, Podcasts , Women]   \n",
       "7            [Alcoholism, Pregnancy, Coaching, Women]   \n",
       "30               [Cancer Survivors, Adults, Coaching]   \n",
       "27                [Facebook Group, Adolescents, ADHD]   \n",
       "20                         [Obese, Diabetes, Web App]   \n",
       "35             [Facebook Group, Adolescents, Healthy]   \n",
       "25           [Gamification, Lung Transplant, Web App]   \n",
       "22               [Older Adults, Coaching, Overweight]   \n",
       "31           [Charity Incentives, Cash, Older Adults]   \n",
       "0                  [Charity Incentives, Adults, Cash]   \n",
       "10                [Lung Transplant, Adults, Coaching]   \n",
       "3                        [Adults, Coaching, Diabetes]   \n",
       "15                     [Leukemia, Children, Coaching]   \n",
       "32                [Personal Training, Ovarian Cancer]   \n",
       "39                                 [ASCVD, Podcasts ]   \n",
       "4                            [Men, Personal Training]   \n",
       "37                         [Children, Social Support]   \n",
       "36                               [Leukemia, Children]   \n",
       "6                       [Messaging, Cancer Survivors]   \n",
       "34                     [Social Support, Older Adults]   \n",
       "8                                       [TKA, Adults]   \n",
       "1                           [Healthy, Social Support]   \n",
       "18                                [Children, Healthy]   \n",
       "11                   [Healthy, Facebook Announcement]   \n",
       "12                            [Young Adults, Twitter]   \n",
       "28                             [Autism, Young Adults]   \n",
       "13                         [Social Support, Diabetes]   \n",
       "17                           [Healthy, Support Group]   \n",
       "24                    [Facebook Announcement, Adults]   \n",
       "23                               [Support Group, TKA]   \n",
       "41                                 [Autism, Coaching]   \n",
       "\n",
       "                                      community links  \n",
       "19  [(Coaching, Women), (Gamification, Messaging),...  \n",
       "29  [(Messaging, Personal Training), (Obese, Perso...  \n",
       "38  [(Adults, Healthy), (Healthy, Women), (Healthy...  \n",
       "33  [(Adults, Social Support), (Overweight, Social...  \n",
       "14  [(Overweight, Young Adults), (Obese, Twitter),...  \n",
       "2   [(Coaching, Support Group), (Adults, Support G...  \n",
       "40  [(Mobile App, Obese), (Mobile App, Overweight)...  \n",
       "5   [(Breast Cancer, Messaging), (Breast Cancer, W...  \n",
       "9   [(Adolescents, Obese), (Adolescents, Overweigh...  \n",
       "16  [(Adults, Cardiometabolic Risk), (Cardiometabo...  \n",
       "26  [(Charity Incentives, Healthy), (Healthy, Olde...  \n",
       "21  [(ASCVD, Women), (Podcasts , Web App), (Podcas...  \n",
       "7   [(Pregnancy, Women), (Alcoholism, Women), (Alc...  \n",
       "30  [(Adults, Cancer Survivors), (Cancer Survivors...  \n",
       "27  [(ADHD, Facebook Group), (Adolescents, Faceboo...  \n",
       "20           [(Diabetes, Web App), (Diabetes, Obese)]  \n",
       "35  [(Facebook Group, Healthy), (Adolescents, Heal...  \n",
       "25  [(Gamification, Lung Transplant), (Lung Transp...  \n",
       "22  [(Coaching, Older Adults), (Older Adults, Over...  \n",
       "31  [(Charity Incentives, Older Adults), (Cash, Ol...  \n",
       "0      [(Adults, Cash), (Adults, Charity Incentives)]  \n",
       "10  [(Adults, Lung Transplant), (Coaching, Lung Tr...  \n",
       "3          [(Adults, Diabetes), (Coaching, Diabetes)]  \n",
       "15       [(Coaching, Leukemia), (Children, Coaching)]  \n",
       "32              [(Ovarian Cancer, Personal Training)]  \n",
       "39                               [(ASCVD, Podcasts )]  \n",
       "4                          [(Men, Personal Training)]  \n",
       "37                       [(Children, Social Support)]  \n",
       "36                             [(Children, Leukemia)]  \n",
       "6                     [(Cancer Survivors, Messaging)]  \n",
       "34                   [(Older Adults, Social Support)]  \n",
       "8                                     [(Adults, TKA)]  \n",
       "1                         [(Healthy, Social Support)]  \n",
       "18                              [(Children, Healthy)]  \n",
       "11                 [(Facebook Announcement, Healthy)]  \n",
       "12                          [(Twitter, Young Adults)]  \n",
       "28                           [(Autism, Young Adults)]  \n",
       "13                       [(Diabetes, Social Support)]  \n",
       "17                         [(Healthy, Support Group)]  \n",
       "24                  [(Adults, Facebook Announcement)]  \n",
       "23                             [(Support Group, TKA)]  \n",
       "41                               [(Autism, Coaching)]  "
      ]
     },
     "execution_count": 94,
     "metadata": {},
     "output_type": "execute_result"
    }
   ],
   "source": [
    "#Build dataframe from the Fitabase graph\n",
    "fit_communities_42 = build_edge_df(e2c)\n",
    "fit_communities_42"
   ]
  },
  {
   "cell_type": "markdown",
   "metadata": {},
   "source": [
    "## Write community details to an external file"
   ]
  },
  {
   "cell_type": "code",
   "execution_count": 49,
   "metadata": {
    "collapsed": false
   },
   "outputs": [],
   "source": [
    "fit_communities_19.to_csv('fit_communities_19.csv', index = False)"
   ]
  },
  {
   "cell_type": "code",
   "execution_count": 88,
   "metadata": {
    "collapsed": true
   },
   "outputs": [],
   "source": [
    "fit_communities_42.to_csv('fit_communities_42.csv', index = False)"
   ]
  },
  {
   "cell_type": "code",
   "execution_count": null,
   "metadata": {
    "collapsed": true
   },
   "outputs": [],
   "source": []
  }
 ],
 "metadata": {
  "anaconda-cloud": {},
  "kernelspec": {
   "display_name": "Python [conda root]",
   "language": "python",
   "name": "conda-root-py"
  },
  "language_info": {
   "codemirror_mode": {
    "name": "ipython",
    "version": 3
   },
   "file_extension": ".py",
   "mimetype": "text/x-python",
   "name": "python",
   "nbconvert_exporter": "python",
   "pygments_lexer": "ipython3",
   "version": "3.5.2"
  }
 },
 "nbformat": 4,
 "nbformat_minor": 1
}
